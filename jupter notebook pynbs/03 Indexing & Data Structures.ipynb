{
 "cells": [
  {
   "cell_type": "markdown",
   "id": "96e5efc8-e8f5-4483-8952-903fba1280fd",
   "metadata": {},
   "source": [
    "# Indexing"
   ]
  },
  {
   "cell_type": "code",
   "execution_count": 13,
   "id": "f78c1f9f-7e05-4796-b49a-a674c37dea1d",
   "metadata": {},
   "outputs": [
    {
     "data": {
      "text/plain": [
       "'samosa pakora'"
      ]
     },
     "execution_count": 13,
     "metadata": {},
     "output_type": "execute_result"
    }
   ],
   "source": [
    "# make a string\n",
    "a = \"samosa pakora\"\n",
    "a"
   ]
  },
  {
   "cell_type": "code",
   "execution_count": 15,
   "id": "bcf2a0a4-2d9b-4a0f-bc56-a4e46eb89840",
   "metadata": {},
   "outputs": [
    {
     "data": {
      "text/plain": [
       "'samosa pakora'"
      ]
     },
     "execution_count": 15,
     "metadata": {},
     "output_type": "execute_result"
    }
   ],
   "source": [
    "a"
   ]
  },
  {
   "cell_type": "code",
   "execution_count": 27,
   "id": "b17fb42e-46ff-4026-9630-884a80fd6a1a",
   "metadata": {},
   "outputs": [
    {
     "data": {
      "text/plain": [
       "13"
      ]
     },
     "execution_count": 27,
     "metadata": {},
     "output_type": "execute_result"
    }
   ],
   "source": [
    "# length of a character\n",
    "len (a)"
   ]
  },
  {
   "cell_type": "code",
   "execution_count": 19,
   "id": "eb13fc3c-9bd9-4d34-80d4-ae0cbd818a8e",
   "metadata": {},
   "outputs": [
    {
     "data": {
      "text/plain": [
       "'a'"
      ]
     },
     "execution_count": 19,
     "metadata": {},
     "output_type": "execute_result"
    }
   ],
   "source": [
    "a[1]"
   ]
  },
  {
   "cell_type": "code",
   "execution_count": 21,
   "id": "35e34378-cf1a-4c19-a7dd-3976d389319c",
   "metadata": {},
   "outputs": [
    {
     "data": {
      "text/plain": [
       "'a'"
      ]
     },
     "execution_count": 21,
     "metadata": {},
     "output_type": "execute_result"
    }
   ],
   "source": [
    "a[12]"
   ]
  },
  {
   "cell_type": "code",
   "execution_count": 29,
   "id": "114bf118-341a-4b75-9c0d-56941e87b63b",
   "metadata": {},
   "outputs": [
    {
     "data": {
      "text/plain": [
       "'samosa'"
      ]
     },
     "execution_count": 29,
     "metadata": {},
     "output_type": "execute_result"
    }
   ],
   "source": [
    "a [0:6]\n",
    "#Last index is exclusive"
   ]
  },
  {
   "cell_type": "code",
   "execution_count": 35,
   "id": "1898044e-292f-4427-b7d9-6ab31c02c219",
   "metadata": {},
   "outputs": [
    {
     "data": {
      "text/plain": [
       "'a'"
      ]
     },
     "execution_count": 35,
     "metadata": {},
     "output_type": "execute_result"
    }
   ],
   "source": [
    "#For negative it will display opposite\n",
    "a[-1]"
   ]
  },
  {
   "cell_type": "code",
   "execution_count": 33,
   "id": "5acda21e-9226-48e7-8513-db1a957e5c40",
   "metadata": {},
   "outputs": [
    {
     "data": {
      "text/plain": [
       "'r'"
      ]
     },
     "execution_count": 33,
     "metadata": {},
     "output_type": "execute_result"
    }
   ],
   "source": [
    "a[-2]"
   ]
  },
  {
   "cell_type": "code",
   "execution_count": 41,
   "id": "d0982d10-d20a-4f96-a965-168d2edc1aa2",
   "metadata": {},
   "outputs": [
    {
     "data": {
      "text/plain": [
       "'pakora'"
      ]
     },
     "execution_count": 41,
     "metadata": {},
     "output_type": "execute_result"
    }
   ],
   "source": [
    "a[-6:13]"
   ]
  },
  {
   "cell_type": "code",
   "execution_count": 54,
   "id": "e8d13d09-2f47-41c1-94b7-3d168226e54b",
   "metadata": {},
   "outputs": [
    {
     "data": {
      "text/plain": [
       "'biryani'"
      ]
     },
     "execution_count": 54,
     "metadata": {},
     "output_type": "execute_result"
    }
   ],
   "source": [
    "food = \"biryani\"\n",
    "food"
   ]
  },
  {
   "cell_type": "markdown",
   "id": "ffdfc2d9-a0b8-438c-b0e6-fed20fa10907",
   "metadata": {},
   "source": [
    "# String Methods"
   ]
  },
  {
   "cell_type": "code",
   "execution_count": 48,
   "id": "b6021c91-ca6d-4436-8b3c-fbe85f658fac",
   "metadata": {},
   "outputs": [
    {
     "data": {
      "text/plain": [
       "7"
      ]
     },
     "execution_count": 48,
     "metadata": {},
     "output_type": "execute_result"
    }
   ],
   "source": [
    "len(food)"
   ]
  },
  {
   "cell_type": "code",
   "execution_count": 56,
   "id": "ab39f498-ff85-4826-96bf-2acebea45ba1",
   "metadata": {},
   "outputs": [
    {
     "data": {
      "text/plain": [
       "'Biryani'"
      ]
     },
     "execution_count": 56,
     "metadata": {},
     "output_type": "execute_result"
    }
   ],
   "source": [
    "food.capitalize()"
   ]
  },
  {
   "cell_type": "code",
   "execution_count": 58,
   "id": "a7ad77c2-8884-436d-bfcf-5f06c889f2f1",
   "metadata": {},
   "outputs": [
    {
     "data": {
      "text/plain": [
       "'BIRYANI'"
      ]
     },
     "execution_count": 58,
     "metadata": {},
     "output_type": "execute_result"
    }
   ],
   "source": [
    "food.upper()"
   ]
  },
  {
   "cell_type": "code",
   "execution_count": 60,
   "id": "8ed543cc-fa0d-413f-b669-63bb842c1110",
   "metadata": {},
   "outputs": [
    {
     "data": {
      "text/plain": [
       "'biryani'"
      ]
     },
     "execution_count": 60,
     "metadata": {},
     "output_type": "execute_result"
    }
   ],
   "source": [
    "food.lower()"
   ]
  },
  {
   "cell_type": "code",
   "execution_count": 62,
   "id": "f096a8fd-2b71-4cd5-ae8c-f1e31ae48c57",
   "metadata": {},
   "outputs": [
    {
     "data": {
      "text/plain": [
       "'shiryani'"
      ]
     },
     "execution_count": 62,
     "metadata": {},
     "output_type": "execute_result"
    }
   ],
   "source": [
    "food.replace(\"b\",\"sh\")"
   ]
  },
  {
   "cell_type": "code",
   "execution_count": 64,
   "id": "257eade6-bcc5-452f-a18c-343170b401d2",
   "metadata": {},
   "outputs": [
    {
     "data": {
      "text/plain": [
       "'abdullah'"
      ]
     },
     "execution_count": 64,
     "metadata": {},
     "output_type": "execute_result"
    }
   ],
   "source": [
    "name  = \"abdullah\"\n",
    "name"
   ]
  },
  {
   "cell_type": "code",
   "execution_count": 68,
   "id": "90658b0e-eff8-4bc7-be34-182dacbe4887",
   "metadata": {},
   "outputs": [
    {
     "data": {
      "text/plain": [
       "2"
      ]
     },
     "execution_count": 68,
     "metadata": {},
     "output_type": "execute_result"
    }
   ],
   "source": [
    "name.count(\"a\")"
   ]
  },
  {
   "cell_type": "code",
   "execution_count": 71,
   "id": "488abac3-ea43-40db-b41e-b1a07c22f68d",
   "metadata": {},
   "outputs": [
    {
     "data": {
      "text/plain": [
       "7"
      ]
     },
     "execution_count": 71,
     "metadata": {},
     "output_type": "execute_result"
    }
   ],
   "source": [
    "# Finding an index number in String\n",
    "name.find(\"h\")"
   ]
  },
  {
   "cell_type": "code",
   "execution_count": 73,
   "id": "4a7b35f8-3118-4db0-9bd8-b70cff992929",
   "metadata": {},
   "outputs": [
    {
     "data": {
      "text/plain": [
       "['I love samosa', ' pakora', ' biryani']"
      ]
     },
     "execution_count": 73,
     "metadata": {},
     "output_type": "execute_result"
    }
   ],
   "source": [
    "# How to split a string\n",
    "food = \"I love samosa, pakora, biryani\"\n",
    "food.split(\",\")"
   ]
  },
  {
   "cell_type": "markdown",
   "id": "f6ab10de-296e-4054-965f-43b5ff5fbfa9",
   "metadata": {},
   "source": [
    "# Basic Data Structures in Python\n",
    "#### 1 Tuple\n",
    "#### 2 List\n",
    "#### 3 Dictionary\n",
    "#### 4 Set"
   ]
  },
  {
   "cell_type": "markdown",
   "id": "2d2e1fd0-7e88-4419-a331-3e33cd0f0056",
   "metadata": {},
   "source": [
    "### 01 Tuple\n",
    "- ordered collection of elements\n",
    "- enclosed in round brackets()\n",
    "- different kind of elements can be stored\n",
    "- once elements are stores, can't be changed (unmutable)"
   ]
  },
  {
   "cell_type": "code",
   "execution_count": 78,
   "id": "d6e3e048-6c8e-4041-a76f-9b646cd39dc3",
   "metadata": {},
   "outputs": [
    {
     "data": {
      "text/plain": [
       "(1, 'python', True, 2.5)"
      ]
     },
     "execution_count": 78,
     "metadata": {},
     "output_type": "execute_result"
    }
   ],
   "source": [
    "tup = (1,\"python\",True,2.5)\n",
    "tup"
   ]
  },
  {
   "cell_type": "code",
   "execution_count": 80,
   "id": "c58d0604-4e47-49f5-9a7f-50672c6fdf63",
   "metadata": {},
   "outputs": [
    {
     "data": {
      "text/plain": [
       "tuple"
      ]
     },
     "execution_count": 80,
     "metadata": {},
     "output_type": "execute_result"
    }
   ],
   "source": [
    "type(tup)"
   ]
  },
  {
   "cell_type": "markdown",
   "id": "f537fe66-8c90-4a27-83c9-c29b2b5d5358",
   "metadata": {},
   "source": [
    "**Indexing in Tuple**"
   ]
  },
  {
   "cell_type": "code",
   "execution_count": 87,
   "id": "94ec6474-0414-4187-959d-1348f025a07d",
   "metadata": {},
   "outputs": [
    {
     "data": {
      "text/plain": [
       "'python'"
      ]
     },
     "execution_count": 87,
     "metadata": {},
     "output_type": "execute_result"
    }
   ],
   "source": [
    "tup[1]"
   ]
  },
  {
   "cell_type": "code",
   "execution_count": 89,
   "id": "059c54db-8c9b-4f91-8a4a-e017c0124a34",
   "metadata": {},
   "outputs": [
    {
     "data": {
      "text/plain": [
       "(1, 'python', True)"
      ]
     },
     "execution_count": 89,
     "metadata": {},
     "output_type": "execute_result"
    }
   ],
   "source": [
    "tup[0:3]"
   ]
  },
  {
   "cell_type": "code",
   "execution_count": 91,
   "id": "d006a10a-e308-45c3-929b-362a116e6225",
   "metadata": {},
   "outputs": [
    {
     "data": {
      "text/plain": [
       "4"
      ]
     },
     "execution_count": 91,
     "metadata": {},
     "output_type": "execute_result"
    }
   ],
   "source": [
    "len(tup)"
   ]
  },
  {
   "cell_type": "code",
   "execution_count": 93,
   "id": "d21f38ab-867d-49c8-9e1b-46cc138e75b8",
   "metadata": {},
   "outputs": [
    {
     "data": {
      "text/plain": [
       "(2, 'Abdullah', 3.4, False)"
      ]
     },
     "execution_count": 93,
     "metadata": {},
     "output_type": "execute_result"
    }
   ],
   "source": [
    "tup2 = (2,\"Abdullah\",3.4,False)\n",
    "tup2"
   ]
  },
  {
   "cell_type": "code",
   "execution_count": 95,
   "id": "25511f5f-20c0-43b6-886b-69079888656b",
   "metadata": {},
   "outputs": [
    {
     "data": {
      "text/plain": [
       "(1, 'python', True, 2.5, 2, 'Abdullah', 3.4, False)"
      ]
     },
     "execution_count": 95,
     "metadata": {},
     "output_type": "execute_result"
    }
   ],
   "source": [
    "tup+tup2"
   ]
  },
  {
   "cell_type": "code",
   "execution_count": 109,
   "id": "48cd7471-b21e-4334-9fd5-ec491d003711",
   "metadata": {},
   "outputs": [
    {
     "data": {
      "text/plain": [
       "(1, 'python', True, 2.5, 1, 'python', True, 2.5, 2, 'Abdullah', 3.4, False)"
      ]
     },
     "execution_count": 109,
     "metadata": {},
     "output_type": "execute_result"
    }
   ],
   "source": [
    "tup*2 + tup2"
   ]
  },
  {
   "cell_type": "code",
   "execution_count": 103,
   "id": "88a172af-88ab-4313-bf8c-9c92f55182ec",
   "metadata": {},
   "outputs": [
    {
     "data": {
      "text/plain": [
       "3"
      ]
     },
     "execution_count": 103,
     "metadata": {},
     "output_type": "execute_result"
    }
   ],
   "source": [
    "tup3 = (3,53,13,56,12)\n",
    "min(tup3)"
   ]
  },
  {
   "cell_type": "markdown",
   "id": "e029d049-414b-4f6f-99aa-104de5e91bc1",
   "metadata": {},
   "source": [
    "### 02 List\n",
    "- ordered collection fo elements\n",
    "- enclosed in []\n",
    "- mutateable"
   ]
  },
  {
   "cell_type": "code",
   "execution_count": 117,
   "id": "1f63061b-4030-4df7-aee5-8b35d9cd846c",
   "metadata": {},
   "outputs": [
    {
     "data": {
      "text/plain": [
       "[1, 'python', True]"
      ]
     },
     "execution_count": 117,
     "metadata": {},
     "output_type": "execute_result"
    }
   ],
   "source": [
    "list = [1,\"python\",True]\n",
    "list"
   ]
  },
  {
   "cell_type": "code",
   "execution_count": 119,
   "id": "82d17ffe-542a-452b-8e48-f4785260e073",
   "metadata": {},
   "outputs": [
    {
     "data": {
      "text/plain": [
       "list"
      ]
     },
     "execution_count": 119,
     "metadata": {},
     "output_type": "execute_result"
    }
   ],
   "source": [
    "type(list)"
   ]
  },
  {
   "cell_type": "code",
   "execution_count": 121,
   "id": "b4cf25e4-6705-4895-8043-bca93468c64e",
   "metadata": {},
   "outputs": [
    {
     "data": {
      "text/plain": [
       "3"
      ]
     },
     "execution_count": 121,
     "metadata": {},
     "output_type": "execute_result"
    }
   ],
   "source": [
    "len(list)"
   ]
  },
  {
   "cell_type": "code",
   "execution_count": 125,
   "id": "3e1bcdbe-eb56-4ea3-9e1c-4b29e6ca2950",
   "metadata": {},
   "outputs": [
    {
     "data": {
      "text/plain": [
       "True"
      ]
     },
     "execution_count": 125,
     "metadata": {},
     "output_type": "execute_result"
    }
   ],
   "source": [
    "list[2]"
   ]
  },
  {
   "cell_type": "code",
   "execution_count": 127,
   "id": "0eaa17cf-911b-4774-811a-0a829f5eb149",
   "metadata": {},
   "outputs": [
    {
     "data": {
      "text/plain": [
       "[3, 5, 'Abdullah', 55.5, False]"
      ]
     },
     "execution_count": 127,
     "metadata": {},
     "output_type": "execute_result"
    }
   ],
   "source": [
    "list2 = [3,5,\"Abdullah\",55.5,False]\n",
    "list2"
   ]
  },
  {
   "cell_type": "code",
   "execution_count": 129,
   "id": "c0ad7721-3b75-42cd-a179-e60f794508af",
   "metadata": {},
   "outputs": [
    {
     "data": {
      "text/plain": [
       "[1, 'python', True, 3, 5, 'Abdullah', 55.5, False]"
      ]
     },
     "execution_count": 129,
     "metadata": {},
     "output_type": "execute_result"
    }
   ],
   "source": [
    "list+list2"
   ]
  },
  {
   "cell_type": "code",
   "execution_count": 133,
   "id": "cb5d4a62-774e-49fb-9c00-7dabd1ffc9e8",
   "metadata": {},
   "outputs": [
    {
     "data": {
      "text/plain": [
       "[1, 'python', True, 1, 'python', True]"
      ]
     },
     "execution_count": 133,
     "metadata": {},
     "output_type": "execute_result"
    }
   ],
   "source": [
    "list*2"
   ]
  },
  {
   "cell_type": "code",
   "execution_count": 139,
   "id": "933a0a2d-e7c2-4f8f-8e8e-38a2acf17c71",
   "metadata": {},
   "outputs": [
    {
     "data": {
      "text/plain": [
       "[True, 'python', 1]"
      ]
     },
     "execution_count": 139,
     "metadata": {},
     "output_type": "execute_result"
    }
   ],
   "source": [
    "list.reverse()\n",
    "list"
   ]
  },
  {
   "cell_type": "code",
   "execution_count": 141,
   "id": "ab353a2b-d36f-402c-b2ee-fb5cc4a8bbfb",
   "metadata": {},
   "outputs": [
    {
     "data": {
      "text/plain": [
       "[1, 'python', True]"
      ]
     },
     "execution_count": 141,
     "metadata": {},
     "output_type": "execute_result"
    }
   ],
   "source": [
    "list.reverse()\n",
    "list"
   ]
  },
  {
   "cell_type": "code",
   "execution_count": 143,
   "id": "d6a14279-37c1-4ed6-9977-7441dc835473",
   "metadata": {},
   "outputs": [
    {
     "data": {
      "text/plain": [
       "[1, 'python', True, 'learning data structures']"
      ]
     },
     "execution_count": 143,
     "metadata": {},
     "output_type": "execute_result"
    }
   ],
   "source": [
    "list.append(\"learning data structures\")\n",
    "list"
   ]
  },
  {
   "cell_type": "code",
   "execution_count": 149,
   "id": "2be135de-4450-42b9-969b-f88468c1b482",
   "metadata": {},
   "outputs": [
    {
     "data": {
      "text/plain": [
       "[1, 'python', 'insert check', 'insert check', True, 'learning data structures']"
      ]
     },
     "execution_count": 149,
     "metadata": {},
     "output_type": "execute_result"
    }
   ],
   "source": [
    "list.insert(2,\"insert check\")\n",
    "list"
   ]
  },
  {
   "cell_type": "code",
   "execution_count": 151,
   "id": "1b67e76a-62ab-4e41-8a7d-f1cb05bb0fe7",
   "metadata": {},
   "outputs": [
    {
     "data": {
      "text/plain": [
       "[1, 'python', 'insert check', 'insert check', True]"
      ]
     },
     "execution_count": 151,
     "metadata": {},
     "output_type": "execute_result"
    }
   ],
   "source": [
    "list.pop()\n",
    "list"
   ]
  },
  {
   "cell_type": "code",
   "execution_count": 155,
   "id": "09712442-429f-483d-af5e-4a4a7e67a4cd",
   "metadata": {},
   "outputs": [
    {
     "data": {
      "text/plain": [
       "[1, 'python', 'insert check', True]"
      ]
     },
     "execution_count": 155,
     "metadata": {},
     "output_type": "execute_result"
    }
   ],
   "source": [
    "list.remove(\"insert check\")\n",
    "list"
   ]
  },
  {
   "cell_type": "code",
   "execution_count": 157,
   "id": "205cfe2c-0e77-4803-b654-969de628b495",
   "metadata": {},
   "outputs": [
    {
     "data": {
      "text/plain": [
       "[3, 6, 234, 56, 12, 5, 3]"
      ]
     },
     "execution_count": 157,
     "metadata": {},
     "output_type": "execute_result"
    }
   ],
   "source": [
    "list3 = [3,6,234,56,12,5,3]\n",
    "list3"
   ]
  },
  {
   "cell_type": "code",
   "execution_count": 161,
   "id": "37cd0a96-41fa-4c64-aff5-304954d1eab8",
   "metadata": {},
   "outputs": [
    {
     "data": {
      "text/plain": [
       "[3, 3, 5, 6, 12, 56, 234]"
      ]
     },
     "execution_count": 161,
     "metadata": {},
     "output_type": "execute_result"
    }
   ],
   "source": [
    "#Sorting in a list\n",
    "list3.sort()\n",
    "list3"
   ]
  },
  {
   "cell_type": "code",
   "execution_count": 165,
   "id": "9f9695c2-1d24-4c80-9d94-127da5a088cb",
   "metadata": {},
   "outputs": [
    {
     "data": {
      "text/plain": [
       "[1, 'python', 'insert check', True, 3, 5, 'Abdullah', 55.5, False]"
      ]
     },
     "execution_count": 165,
     "metadata": {},
     "output_type": "execute_result"
    }
   ],
   "source": [
    "list+list2"
   ]
  },
  {
   "cell_type": "code",
   "execution_count": 167,
   "id": "a501869e-94af-4b8c-9908-036c7ed81c36",
   "metadata": {},
   "outputs": [
    {
     "data": {
      "text/plain": [
       "[1, 'python', 'insert check', True, 3, 3, 5, 6, 12, 56, 234]"
      ]
     },
     "execution_count": 167,
     "metadata": {},
     "output_type": "execute_result"
    }
   ],
   "source": [
    "lists = list+list3\n",
    "lists"
   ]
  },
  {
   "cell_type": "markdown",
   "id": "4eeef96c-1540-4c0a-bc13-863b8c8a3b89",
   "metadata": {},
   "source": [
    "### 03 Dictionary\n",
    "- unordered collection of elements\n",
    "- key and value\n",
    "- enclosed in {}\n",
    "- muteable"
   ]
  },
  {
   "cell_type": "code",
   "execution_count": 174,
   "id": "1762e258-3262-4bbc-8618-25f9b7ab9a67",
   "metadata": {},
   "outputs": [
    {
     "data": {
      "text/plain": [
       "{'Samosa': 30, 'Pakora': 100, 'Raita': 20, 'Salad': 20, 'Chicken Roll': 30}"
      ]
     },
     "execution_count": 174,
     "metadata": {},
     "output_type": "execute_result"
    }
   ],
   "source": [
    "prices = {\"Samosa\":30,\"Pakora\":100,\"Raita\":20,\"Salad\":20,\"Chicken Roll\":30}\n",
    "prices"
   ]
  },
  {
   "cell_type": "code",
   "execution_count": 176,
   "id": "ea4f7cda-2919-42cd-afb3-d40ac387fb16",
   "metadata": {},
   "outputs": [
    {
     "data": {
      "text/plain": [
       "dict"
      ]
     },
     "execution_count": 176,
     "metadata": {},
     "output_type": "execute_result"
    }
   ],
   "source": [
    "type(prices)"
   ]
  },
  {
   "cell_type": "code",
   "execution_count": 178,
   "id": "6de432c5-a49f-4337-8fbf-cd8ccf3a033e",
   "metadata": {},
   "outputs": [
    {
     "data": {
      "text/plain": [
       "dict_keys(['Samosa', 'Pakora', 'Raita', 'Salad', 'Chicken Roll'])"
      ]
     },
     "execution_count": 178,
     "metadata": {},
     "output_type": "execute_result"
    }
   ],
   "source": [
    "#extract data\n",
    "key = prices.keys()\n",
    "key"
   ]
  },
  {
   "cell_type": "code",
   "execution_count": 182,
   "id": "b66e4a30-de20-438e-93cd-f2e3514b6f4f",
   "metadata": {},
   "outputs": [
    {
     "data": {
      "text/plain": [
       "dict_values([30, 100, 20, 20, 30])"
      ]
     },
     "execution_count": 182,
     "metadata": {},
     "output_type": "execute_result"
    }
   ],
   "source": [
    "value = prices.values()\n",
    "value"
   ]
  },
  {
   "cell_type": "code",
   "execution_count": 186,
   "id": "3b1fb61b-c648-4a82-86d3-b1174c2f6fa7",
   "metadata": {},
   "outputs": [
    {
     "data": {
      "text/plain": [
       "{'Samosa': 30,\n",
       " 'Pakora': 100,\n",
       " 'Raita': 20,\n",
       " 'Salad': 20,\n",
       " 'Chicken Roll': 30,\n",
       " 'Tikki': 20}"
      ]
     },
     "execution_count": 186,
     "metadata": {},
     "output_type": "execute_result"
    }
   ],
   "source": [
    "#Adding new element\n",
    "prices.update({\"Tikki\":20})\n",
    "prices"
   ]
  },
  {
   "cell_type": "code",
   "execution_count": 189,
   "id": "eac45342-266b-4306-8171-7f668a002afa",
   "metadata": {},
   "outputs": [
    {
     "data": {
      "text/plain": [
       "{'Samosa': 30,\n",
       " 'Pakora': 100,\n",
       " 'Raita': 20,\n",
       " 'Salad': 20,\n",
       " 'Chicken Roll': 30,\n",
       " 'Tikki': 20,\n",
       " 'tikki': 25}"
      ]
     },
     "execution_count": 189,
     "metadata": {},
     "output_type": "execute_result"
    }
   ],
   "source": [
    "#Update the values\n",
    "prices[\"tikki\"] = 25\n",
    "prices"
   ]
  },
  {
   "cell_type": "code",
   "execution_count": 193,
   "id": "2d1378ad-bc1b-45ff-be52-5a72b12e3775",
   "metadata": {},
   "outputs": [
    {
     "data": {
      "text/plain": [
       "{'Dates': 50, 'Choclates': 200, 'Eggs': 120}"
      ]
     },
     "execution_count": 193,
     "metadata": {},
     "output_type": "execute_result"
    }
   ],
   "source": [
    "prices2 = {\"Dates\":50,\"Choclates\":200,\"Eggs\":120}\n",
    "prices2"
   ]
  },
  {
   "cell_type": "code",
   "execution_count": 195,
   "id": "c1fa0fe2-2d96-476d-9639-1d2e0723d001",
   "metadata": {},
   "outputs": [],
   "source": [
    "#Concatenate\n",
    "prices.update(prices2)"
   ]
  },
  {
   "cell_type": "code",
   "execution_count": 197,
   "id": "91c841f5-2be6-42d0-8377-abde5e18bb2b",
   "metadata": {},
   "outputs": [
    {
     "data": {
      "text/plain": [
       "{'Samosa': 30,\n",
       " 'Pakora': 100,\n",
       " 'Raita': 20,\n",
       " 'Salad': 20,\n",
       " 'Chicken Roll': 30,\n",
       " 'Tikki': 20,\n",
       " 'tikki': 25,\n",
       " 'Dates': 50,\n",
       " 'Choclates': 200,\n",
       " 'Eggs': 120}"
      ]
     },
     "execution_count": 197,
     "metadata": {},
     "output_type": "execute_result"
    }
   ],
   "source": [
    "prices"
   ]
  },
  {
   "cell_type": "code",
   "execution_count": 205,
   "id": "1b91ce86-7b39-4979-b43e-fe8278e2e4b6",
   "metadata": {},
   "outputs": [
    {
     "data": {
      "text/plain": [
       "{'Samosa': 30,\n",
       " 'Pakora': 100,\n",
       " 'Raita': 20,\n",
       " 'Salad': 20,\n",
       " 'Chicken Roll': 30,\n",
       " 'Tikki': 20,\n",
       " 'Dates': 50,\n",
       " 'Choclates': 200,\n",
       " 'Eggs': 120}"
      ]
     },
     "execution_count": 205,
     "metadata": {},
     "output_type": "execute_result"
    }
   ],
   "source": [
    "prices.pop(\"tikki\")\n",
    "prices"
   ]
  },
  {
   "cell_type": "markdown",
   "id": "74eb70a7-4ada-4804-85a8-0ad34d00326b",
   "metadata": {},
   "source": [
    "### 04 Set\n",
    "- unordered and unindexed\n",
    "- enclosed in {}\n",
    "- no duplicates allowed"
   ]
  },
  {
   "cell_type": "code",
   "execution_count": 212,
   "id": "1e03ac9d-04e6-4d9e-83b1-964224908f75",
   "metadata": {},
   "outputs": [
    {
     "data": {
      "text/plain": [
       "{1, 2, 'Abdullah'}"
      ]
     },
     "execution_count": 212,
     "metadata": {},
     "output_type": "execute_result"
    }
   ],
   "source": [
    "#boolean operator will not be printed\n",
    "s = {1,2,2,\"Abdullah\",True}\n",
    "s"
   ]
  },
  {
   "cell_type": "code",
   "execution_count": 216,
   "id": "379ca10b-9cd0-469b-8c49-f09ab9440413",
   "metadata": {},
   "outputs": [
    {
     "data": {
      "text/plain": [
       "{1, 2, 'Abdullah'}"
      ]
     },
     "execution_count": 216,
     "metadata": {},
     "output_type": "execute_result"
    }
   ],
   "source": [
    "#if a value already exists it will not add\n",
    "s.add(\"Abdullah\")\n",
    "s"
   ]
  },
  {
   "cell_type": "code",
   "execution_count": 220,
   "id": "e16b4a6e-2a47-47c0-8826-dabdaf19508d",
   "metadata": {},
   "outputs": [
    {
     "data": {
      "text/plain": [
       "{1, 'Abdullah'}"
      ]
     },
     "execution_count": 220,
     "metadata": {},
     "output_type": "execute_result"
    }
   ],
   "source": [
    "s.remove(2)\n",
    "s"
   ]
  },
  {
   "cell_type": "code",
   "execution_count": 222,
   "id": "6aa498b8-a173-47f4-b9ae-f47e8ef33b0c",
   "metadata": {},
   "outputs": [
    {
     "data": {
      "text/plain": [
       "{'Abdullah'}"
      ]
     },
     "execution_count": 222,
     "metadata": {},
     "output_type": "execute_result"
    }
   ],
   "source": [
    "s.pop()\n",
    "s"
   ]
  }
 ],
 "metadata": {
  "kernelspec": {
   "display_name": "Python 3 (ipykernel)",
   "language": "python",
   "name": "python3"
  },
  "language_info": {
   "codemirror_mode": {
    "name": "ipython",
    "version": 3
   },
   "file_extension": ".py",
   "mimetype": "text/x-python",
   "name": "python",
   "nbconvert_exporter": "python",
   "pygments_lexer": "ipython3",
   "version": "3.12.4"
  }
 },
 "nbformat": 4,
 "nbformat_minor": 5
}
