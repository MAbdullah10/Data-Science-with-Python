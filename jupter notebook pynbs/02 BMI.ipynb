{
 "cells": [
  {
   "cell_type": "markdown",
   "id": "dac49d68-6f9f-4a0a-957e-23efbbfd666d",
   "metadata": {},
   "source": [
    "# BMI\n",
    "Input Weight <br>\n",
    "Input height <br>\n",
    "calculate bmi <br>\n",
    "print\n"
   ]
  },
  {
   "cell_type": "code",
   "execution_count": 2,
   "id": "3c77e9cd-a353-4f02-b7a8-a84ae9555a30",
   "metadata": {},
   "outputs": [
    {
     "name": "stdin",
     "output_type": "stream",
     "text": [
      "Enter your name:  Abdullah\n",
      "Enter your weight in kilograms:  62\n",
      "Enter your height in meters:  1.83\n"
     ]
    }
   ],
   "source": [
    "name = input (\"Enter your name: \")\n",
    "height = input (\"Enter your weight in kilograms: \")\n",
    "weight = input (\"Enter your height in meters: \")\n",
    "weight = float (weight)\n",
    "height = float(height)\n",
    "BMI = (weight/height)**2"
   ]
  },
  {
   "cell_type": "code",
   "execution_count": 3,
   "id": "b8e16461-0300-4d08-bb04-2f18a499788e",
   "metadata": {},
   "outputs": [
    {
     "name": "stdout",
     "output_type": "stream",
     "text": [
      "My name is Abdullah and my BMI is 0.0008712018730489075\n"
     ]
    }
   ],
   "source": [
    "print(\"My name is\", name, \"and my BMI is\",BMI)"
   ]
  }
 ],
 "metadata": {
  "kernelspec": {
   "display_name": "Python 3 (ipykernel)",
   "language": "python",
   "name": "python3"
  },
  "language_info": {
   "codemirror_mode": {
    "name": "ipython",
    "version": 3
   },
   "file_extension": ".py",
   "mimetype": "text/x-python",
   "name": "python",
   "nbconvert_exporter": "python",
   "pygments_lexer": "ipython3",
   "version": "3.12.4"
  }
 },
 "nbformat": 4,
 "nbformat_minor": 5
}
