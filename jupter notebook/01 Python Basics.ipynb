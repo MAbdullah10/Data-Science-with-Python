{
 "cells": [
  {
   "cell_type": "markdown",
   "id": "2c5becd0-062a-4c78-9c6c-49e57e118aa0",
   "metadata": {},
   "source": [
    "# Python Basics\n",
    "#### **01 First Code**"
   ]
  },
  {
   "cell_type": "code",
   "execution_count": 2,
   "id": "f5d13f41-936f-4ab5-9fd7-45a5a3e71e38",
   "metadata": {},
   "outputs": [
    {
     "name": "stdout",
     "output_type": "stream",
     "text": [
      "Learning Python with Abdullah\n"
     ]
    }
   ],
   "source": [
    "print(\"Learning Python with Abdullah\")"
   ]
  },
  {
   "cell_type": "markdown",
   "id": "cbb39c6d-915d-4fee-a1ec-dd71f58525c4",
   "metadata": {},
   "source": [
    "#### **02 Operators**"
   ]
  },
  {
   "cell_type": "code",
   "execution_count": 6,
   "id": "eb54bf7d-1d7e-491f-bfa7-2e0e8f46b8a5",
   "metadata": {},
   "outputs": [
    {
     "name": "stdout",
     "output_type": "stream",
     "text": [
      "5\n",
      "2\n",
      "3.0\n",
      "1\n",
      "4\n",
      "3\n",
      "9\n",
      "11.0\n"
     ]
    }
   ],
   "source": [
    "#OPERATORS\n",
    "print(2+3)\n",
    "print(3-1)\n",
    "print(6/2)   #if you require value in float\n",
    "print(13%2)\n",
    "print(2*2)\n",
    "print(6//2)  #if you require value in whole number\n",
    "print(3**2)  #POWER\n",
    "print(3**2*3/3+6-4) #PEMDAS "
   ]
  },
  {
   "cell_type": "markdown",
   "id": "d4c0341b-ddee-4cbd-81a7-e857a54a803f",
   "metadata": {},
   "source": [
    "*(Multiply, divide) (addition,subtraction) first come first serve from left to right*"
   ]
  },
  {
   "cell_type": "markdown",
   "id": "fe5d6550-bca7-43a4-af7a-634bc336ab01",
   "metadata": {},
   "source": [
    "#### **03 Strings**"
   ]
  },
  {
   "cell_type": "code",
   "execution_count": 11,
   "id": "89533b6a-dbd7-47bd-b7b3-0848a13ded9a",
   "metadata": {},
   "outputs": [
    {
     "name": "stdout",
     "output_type": "stream",
     "text": [
      "Test for single quote\n",
      "Test for double quote\n",
      "test for triple quote\n",
      "what's up\n"
     ]
    }
   ],
   "source": [
    "#STRINGS\n",
    "print('Test for single quote')\n",
    "print(\"Test for double quote\")\n",
    "print('''test for triple quote''')\n",
    "\n",
    "# print('what's up)     (problem with single quote)\n",
    "print(\"what's up\")     #(problem solved)\n"
   ]
  },
  {
   "cell_type": "markdown",
   "id": "b4e82e5b-2869-4b35-b586-7b78b9fe04bf",
   "metadata": {},
   "source": [
    "#### **04 Comments**"
   ]
  },
  {
   "cell_type": "code",
   "execution_count": 16,
   "id": "bc93381e-32bd-4f27-8f78-af5403585223",
   "metadata": {},
   "outputs": [
    {
     "name": "stdout",
     "output_type": "stream",
     "text": [
      "hello\n",
      "How are you?\n"
     ]
    }
   ],
   "source": [
    "print(\"hello\")             #select the line and press cntrl+/ to comment\n",
    "print(\"How are you?\")      #you can use '#' at the start to comment"
   ]
  },
  {
   "cell_type": "markdown",
   "id": "eebe3b78-60df-4745-baac-f72361e49966",
   "metadata": {},
   "source": [
    "#### **05 Variables** \n",
    "\n",
    "*VARIABLES: objects containing specific values*"
   ]
  },
  {
   "cell_type": "code",
   "execution_count": 23,
   "id": "90533a04-8815-4e9d-861d-4e694d690e7d",
   "metadata": {},
   "outputs": [
    {
     "name": "stdout",
     "output_type": "stream",
     "text": [
      "5\n",
      "you are learning python with Abdullah\n",
      "15\n",
      "<class 'int'>\n",
      "<class 'str'>\n",
      "('mangoes', 'oranges')\n",
      "<class 'tuple'>\n"
     ]
    }
   ],
   "source": [
    "x = 5       #numeric or integer varaible\n",
    "print(x)\n",
    "\n",
    "y = \"you are learning python with Abdullah\"     #string variable\n",
    "print(y)\n",
    "\n",
    "x = x+10\n",
    "print(x)\n",
    "\n",
    "#Types of varibales\n",
    "print(type(x))\n",
    "print(type(y))\n",
    "\n",
    "fruit_basket = 8\n",
    "fruit_basket = \"mangoes\",\"oranges\"\n",
    "print(fruit_basket)\n",
    "print(type(fruit_basket))"
   ]
  },
  {
   "cell_type": "markdown",
   "id": "184e3524-ba13-4558-9ca5-87e922c78277",
   "metadata": {},
   "source": [
    "#### Rules to assign a variable\n",
    " *1  The variable should contain letters, underscores or numbers* <br>\n",
    " *2  The variable should not start with a number* <br>\n",
    " *3  The variable should not contain spaces* <br>\n",
    " *4  The variable should not contain special characters* <br>\n",
    " *5  The variable should not be a keyword in python* <br>\n",
    " *6  The variable should not be a reserved word in python* <br>"
   ]
  },
  {
   "cell_type": "markdown",
   "id": "71ce4661-dae5-48bd-9fde-78f65ac55537",
   "metadata": {},
   "source": [
    "#### **06 Input Variables**"
   ]
  },
  {
   "cell_type": "code",
   "execution_count": 33,
   "id": "82c8f126-08ae-4659-935a-b86f6f50ac96",
   "metadata": {},
   "outputs": [
    {
     "name": "stdout",
     "output_type": "stream",
     "text": [
      "mangoes\n"
     ]
    },
    {
     "name": "stdin",
     "output_type": "stream",
     "text": [
      "Enter your favorite fruit:  Apple\n"
     ]
    },
    {
     "name": "stdout",
     "output_type": "stream",
     "text": [
      "Apple\n"
     ]
    },
    {
     "name": "stdin",
     "output_type": "stream",
     "text": [
      "What is your name?  Abdullah\n"
     ]
    },
    {
     "name": "stdout",
     "output_type": "stream",
     "text": [
      "Hello Abdullah\n"
     ]
    },
    {
     "name": "stdin",
     "output_type": "stream",
     "text": [
      "What is your name?  Ali\n"
     ]
    },
    {
     "name": "stdout",
     "output_type": "stream",
     "text": [
      "Hello Ali\n"
     ]
    },
    {
     "name": "stdin",
     "output_type": "stream",
     "text": [
      "What is your name?  Ahmad\n",
      "How old are you?  22\n"
     ]
    },
    {
     "name": "stdout",
     "output_type": "stream",
     "text": [
      "HELLO! Ahmad , you're still young\n"
     ]
    }
   ],
   "source": [
    "fruit_basket = \"mangoes\"\n",
    "print(fruit_basket)\n",
    "\n",
    "#input function\n",
    "fruit_basket = input(\"Enter your favorite fruit: \")\n",
    "print(fruit_basket)\n",
    "\n",
    "#input function of 2nd stage\n",
    "name = input(\"What is your name? \")\n",
    "greetings = \"Hello\"\n",
    "print(greetings,name)\n",
    "\n",
    "#another way of 2nd stage\n",
    "name = input(\"What is your name? \")\n",
    "print(\"Hello\",name)\n",
    "\n",
    "#3rd Stage input function\n",
    "name = input(\"What is your name? \")\n",
    "age =input(\"How old are you? \")\n",
    "greetings = \"HELLO!\"\n",
    "print(greetings, name, \", you're still young\")"
   ]
  },
  {
   "cell_type": "markdown",
   "id": "af406284-83f1-4508-b2bb-372ac8af8457",
   "metadata": {},
   "source": [
    "#### **07 Conditional Logic**\n",
    "##### *LOGICAL OPERATORS (Either true/false, 0/1, yes/no)*\n",
    " *equal to              ==* <br>\n",
    " *not equal to          !=* <br>\n",
    " *less than             <* <br>\n",
    " *less than equal to    <=* <br>\n",
    " *greater than          >* <br>\n",
    " *greater than equal to >=* <br>"
   ]
  },
  {
   "cell_type": "code",
   "execution_count": 39,
   "id": "a84280b1-13eb-4259-875d-0d7e06b4385f",
   "metadata": {},
   "outputs": [
    {
     "name": "stdout",
     "output_type": "stream",
     "text": [
      "True\n",
      "False\n",
      "True\n",
      "True\n",
      "False\n",
      "False\n",
      "False\n"
     ]
    },
    {
     "name": "stdin",
     "output_type": "stream",
     "text": [
      "Enter your age:  4\n"
     ]
    },
    {
     "name": "stdout",
     "output_type": "stream",
     "text": [
      "False\n"
     ]
    }
   ],
   "source": [
    "print(4==4)\n",
    "print(4!=4)\n",
    "print(4<5)\n",
    "print(4<=5)\n",
    "print(4>5)\n",
    "print(4>=5)\n",
    "\n",
    "#Applications of logical operators\n",
    "ali_age = 4\n",
    "min_age_at_school = 5\n",
    "print(ali_age == min_age_at_school)\n",
    "\n",
    "#Input operator and logical\n",
    "min_age_at_school = 5\n",
    "ali_age = int(input(\"Enter your age: \")) #int is used to make types of variable same\n",
    "print(ali_age == min_age_at_school)"
   ]
  },
  {
   "cell_type": "markdown",
   "id": "8531a85d-b2df-469c-9cea-12c6bcf9a45d",
   "metadata": {},
   "source": [
    "#### **08 Type Conversion**"
   ]
  },
  {
   "cell_type": "code",
   "execution_count": 43,
   "id": "2cbfae16-7640-4e98-8a6e-3d63d960eb48",
   "metadata": {},
   "outputs": [
    {
     "name": "stdout",
     "output_type": "stream",
     "text": [
      "102.0  type of x is  <class 'float'>\n"
     ]
    },
    {
     "name": "stdin",
     "output_type": "stream",
     "text": [
      "What's your age?  23\n"
     ]
    },
    {
     "name": "stdout",
     "output_type": "stream",
     "text": [
      "<class 'str'>\n",
      "23 type of age is  <class 'int'>\n"
     ]
    }
   ],
   "source": [
    "x = 10      #integer\n",
    "y = 10.2    #float\n",
    "z = \"Hello\" #string\n",
    "\n",
    "#Implicit type conversion\n",
    "x = x*y     #int*float = float\n",
    "print(x,\" type of x is \",type(x))\n",
    "\n",
    "#Explicit type conversion\n",
    "age = input(\"What's your age? \")\n",
    "print(type(age))\n",
    "age = int (age)\n",
    "print (age, \"type of age is \",type(age))"
   ]
  },
  {
   "cell_type": "markdown",
   "id": "7e12974e-3794-4207-a22c-7cd5fb4af254",
   "metadata": {},
   "source": [
    "#### **09 If else elif**"
   ]
  },
  {
   "cell_type": "code",
   "execution_count": 49,
   "id": "1f4f9330-eebb-482c-9a33-d2823a009dac",
   "metadata": {},
   "outputs": [
    {
     "name": "stdout",
     "output_type": "stream",
     "text": [
      "Ali should go to higher secondary school\n"
     ]
    }
   ],
   "source": [
    "required_age_at_school = 5\n",
    "ali_age = 10\n",
    "\n",
    "#question: can ali go to school\n",
    "if ali_age == required_age_at_school:\n",
    "    print(\"Ali can go to school\")\n",
    "elif ali_age>required_age_at_school:\n",
    "    print(\"Ali should go to higher secondary school\")\n",
    "else:\n",
    "    print(\"Ali cannot go to school\")"
   ]
  },
  {
   "cell_type": "markdown",
   "id": "1e8efe73-62fa-4e1a-9a6e-aeb38a24bea3",
   "metadata": {},
   "source": [
    "#### **10 Functions**"
   ]
  },
  {
   "cell_type": "code",
   "execution_count": 57,
   "id": "96114b80-66fb-4383-9b6a-1580b723d897",
   "metadata": {},
   "outputs": [
    {
     "name": "stdout",
     "output_type": "stream",
     "text": [
      "Learning python\n",
      "Learning python\n",
      "Learning python\n",
      "Learning python\n",
      "Learning python\n",
      "Learn python with us\n",
      "Learn python with us\n",
      "Learn python with us\n",
      "we are trying the second way (edited)\n",
      "we are trying the second way (edited)\n",
      "we are trying the second way (edited)\n",
      "That's the third way \n",
      "That's the third way \n",
      "That's the third way \n",
      "Ali  can't go to school\n"
     ]
    }
   ],
   "source": [
    "print(\"Learning python\")\n",
    "print(\"Learning python\")\n",
    "print(\"Learning python\")\n",
    "print(\"Learning python\")\n",
    "print(\"Learning python\")\n",
    "\n",
    "#instead of above we'll use a function\n",
    "#Method 1\n",
    "def print_func():\n",
    "    print(\"Learn python with us\")\n",
    "    print(\"Learn python with us\")\n",
    "    print(\"Learn python with us\")\n",
    "\n",
    "print_func()\n",
    "\n",
    "#Method 2\n",
    "def print_func():\n",
    "    text = \"we are trying the second way (edited)\"\n",
    "    print(text)\n",
    "    print(text)\n",
    "    print(text)    \n",
    "    \n",
    "print_func()\n",
    "\n",
    "#Method 3\n",
    "def print_func(text):\n",
    "    print(text)\n",
    "    print(text)\n",
    "    print(text)    \n",
    "    \n",
    "print_func(\"That's the third way \")\n",
    "\n",
    "#Defining func with if,elif statements\n",
    "def school_calc(age,name):\n",
    "    if age == 5:\n",
    "        print(name, \" can go to school\")\n",
    "    elif age > 5:\n",
    "        print(name, \" can go to higher school\")\n",
    "    else:\n",
    "        print(name,\" can't go to school\")\n",
    "\n",
    "school_calc(2,\"Ali\")\n"
   ]
  },
  {
   "cell_type": "markdown",
   "id": "7f220614-58ee-4715-85a8-47389e323c36",
   "metadata": {},
   "source": [
    "#### **11 Loops**"
   ]
  },
  {
   "cell_type": "code",
   "execution_count": 61,
   "id": "a7822d57-c091-41e9-9f99-d492729817ec",
   "metadata": {},
   "outputs": [
    {
     "name": "stdout",
     "output_type": "stream",
     "text": [
      "0\n",
      "1\n",
      "2\n",
      "3\n",
      "4\n",
      "5\n",
      "6\n",
      "7\n",
      "8\n",
      "9\n",
      "Mon\n",
      "Tue\n",
      "Wed\n"
     ]
    }
   ],
   "source": [
    "#While Loop\n",
    "x = 0\n",
    "while(x<5):\n",
    "    print(x) \n",
    "    x = x+1\n",
    "\n",
    "#For Loop\n",
    "for x in range(5,10):\n",
    "    print(x)\n",
    "\n",
    "#array\n",
    "days = [\"Mon\", \"Tue\",\"Wed\",\"Thurs\",\"Fri\",\"Sat\",\"Sun\"]\n",
    "for d in days:\n",
    "    if (d==\"Thurs\"):break   #loop stops and exists\n",
    "    if (d==\"Thurs\"):continue#it will skip this value\n",
    "    print(d)"
   ]
  },
  {
   "cell_type": "markdown",
   "id": "243224c2-ce45-4235-a26b-1261e848a32c",
   "metadata": {},
   "source": [
    "#### **12 Important Libraries**"
   ]
  },
  {
   "cell_type": "code",
   "execution_count": 66,
   "id": "0b21a833-0fac-4006-8752-e19c662cc32a",
   "metadata": {},
   "outputs": [
    {
     "name": "stdout",
     "output_type": "stream",
     "text": [
      "The value of pi is  3.141592653589793\n",
      "4.166666666666667\n"
     ]
    }
   ],
   "source": [
    "#if you want to print value of pi\n",
    "import math\n",
    "print(\"The value of pi is \",math.pi)\n",
    "\n",
    "#for mean, median, mode etc\n",
    "import statistics\n",
    "x= [5,8,2,3,5,2]\n",
    "print(statistics.mean(x))\n",
    "\n",
    "#NUMPY, PANDAS\n"
   ]
  },
  {
   "cell_type": "markdown",
   "id": "1acd889a-46d7-4cef-a5e0-6e9bc3af2ad1",
   "metadata": {},
   "source": [
    "#### **13 Troubleshooting**"
   ]
  },
  {
   "cell_type": "code",
   "execution_count": 69,
   "id": "2b63969b-6f0c-4dc8-be83-0184401b4085",
   "metadata": {},
   "outputs": [
    {
     "name": "stdout",
     "output_type": "stream",
     "text": [
      "Hi name\n"
     ]
    }
   ],
   "source": [
    "#print(we are learning python with ammar) #Syntax Error\n",
    "\n",
    "#print(25/0) #Runtime Error\n",
    "\n",
    "name = \"Ahmad\"\n",
    "print(\"Hi name\") #Semantic Error"
   ]
  }
 ],
 "metadata": {
  "kernelspec": {
   "display_name": "Python 3 (ipykernel)",
   "language": "python",
   "name": "python3"
  },
  "language_info": {
   "codemirror_mode": {
    "name": "ipython",
    "version": 3
   },
   "file_extension": ".py",
   "mimetype": "text/x-python",
   "name": "python",
   "nbconvert_exporter": "python",
   "pygments_lexer": "ipython3",
   "version": "3.12.4"
  }
 },
 "nbformat": 4,
 "nbformat_minor": 5
}
